{
 "cells": [
  {
   "cell_type": "code",
   "execution_count": 1,
   "metadata": {},
   "outputs": [
    {
     "name": "stdout",
     "output_type": "stream",
     "text": [
      "samping rate: 44100\n",
      "data type: int16\n",
      "data shape: (149058, 2)\n"
     ]
    }
   ],
   "source": [
    "import numpy as np\n",
    "import scipy.io.wavfile\n",
    "\n",
    "sampling_rate, data = scipy.io.wavfile.read('./requirements/voice1.wav')\n",
    "\n",
    "print('samping rate:', sampling_rate) # frequency (sample per second)\n",
    "print('data type:', data.dtype)\n",
    "print('data shape:', data.shape)\n",
    "\n",
    "scipy.io.wavfile.write('output1_srDoubled.wav', sampling_rate * 2, data)\n",
    "scipy.io.wavfile.write('output1_srHalfed.wav', sampling_rate // 2, data)"
   ]
  }
 ],
 "metadata": {
  "kernelspec": {
   "display_name": "base",
   "language": "python",
   "name": "python3"
  },
  "language_info": {
   "codemirror_mode": {
    "name": "ipython",
    "version": 3
   },
   "file_extension": ".py",
   "mimetype": "text/x-python",
   "name": "python",
   "nbconvert_exporter": "python",
   "pygments_lexer": "ipython3",
   "version": "3.12.4"
  }
 },
 "nbformat": 4,
 "nbformat_minor": 2
}

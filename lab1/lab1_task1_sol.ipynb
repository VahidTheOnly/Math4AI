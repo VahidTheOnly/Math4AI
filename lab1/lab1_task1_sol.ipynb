{
 "cells": [
  {
   "cell_type": "code",
   "execution_count": 1,
   "metadata": {},
   "outputs": [
    {
     "data": {
      "text/plain": [
       "array([[-0.28725884,  0.36776669, -0.28278385, ..., -0.01733048,\n",
       "        -0.19148447, -0.34835643],\n",
       "       [-0.42851074,  0.23547468, -0.04819378, ..., -0.23966854,\n",
       "         0.14050294,  0.04376015],\n",
       "       [ 0.09067718, -0.2371465 , -0.20481712, ...,  0.42818206,\n",
       "         0.47194175, -0.347663  ],\n",
       "       ...,\n",
       "       [ 0.38603742,  0.37860116,  0.4299971 , ...,  0.45241357,\n",
       "         0.01021703, -0.41476384],\n",
       "       [ 0.14053069,  0.37286777,  0.14757645, ...,  0.35694994,\n",
       "         0.50939332,  0.29120155],\n",
       "       [ 0.16002775, -0.15440586, -0.27845421, ..., -0.04545176,\n",
       "         0.03792512, -0.13263942]])"
      ]
     },
     "execution_count": 1,
     "metadata": {},
     "output_type": "execute_result"
    }
   ],
   "source": [
    "import numpy as np\n",
    "\n",
    "np.random.seed(5)\n",
    "A = np.random.rand(200,10)\n",
    "mu = np.zeros(A.shape[1])\n",
    "for i in range(A.shape[0]): \n",
    "    mu += A[i] \n",
    "mu /= A.shape[0] \n",
    "B1 = np.zeros_like(A) \n",
    "for i in range(A.shape[0]): \n",
    "    B1[i] = A[i] - mu\n",
    "B1"
   ]
  },
  {
   "cell_type": "code",
   "execution_count": 2,
   "metadata": {},
   "outputs": [
    {
     "data": {
      "text/plain": [
       "array([[-0.28725884,  0.36776669, -0.28278385, ..., -0.01733048,\n",
       "        -0.19148447, -0.34835643],\n",
       "       [-0.42851074,  0.23547468, -0.04819378, ..., -0.23966854,\n",
       "         0.14050294,  0.04376015],\n",
       "       [ 0.09067718, -0.2371465 , -0.20481712, ...,  0.42818206,\n",
       "         0.47194175, -0.347663  ],\n",
       "       ...,\n",
       "       [ 0.38603742,  0.37860116,  0.4299971 , ...,  0.45241357,\n",
       "         0.01021703, -0.41476384],\n",
       "       [ 0.14053069,  0.37286777,  0.14757645, ...,  0.35694994,\n",
       "         0.50939332,  0.29120155],\n",
       "       [ 0.16002775, -0.15440586, -0.27845421, ..., -0.04545176,\n",
       "         0.03792512, -0.13263942]])"
      ]
     },
     "execution_count": 2,
     "metadata": {},
     "output_type": "execute_result"
    }
   ],
   "source": [
    "B2 = A - np.mean(A, axis=0).reshape(1, -1)\n",
    "B2"
   ]
  }
 ],
 "metadata": {
  "kernelspec": {
   "display_name": "base",
   "language": "python",
   "name": "python3"
  },
  "language_info": {
   "codemirror_mode": {
    "name": "ipython",
    "version": 3
   },
   "file_extension": ".py",
   "mimetype": "text/x-python",
   "name": "python",
   "nbconvert_exporter": "python",
   "pygments_lexer": "ipython3",
   "version": "3.12.4"
  }
 },
 "nbformat": 4,
 "nbformat_minor": 2
}

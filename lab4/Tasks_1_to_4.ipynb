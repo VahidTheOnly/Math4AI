{
 "cells": [
  {
   "cell_type": "markdown",
   "metadata": {},
   "source": [
    "# Task 1"
   ]
  },
  {
   "cell_type": "code",
   "execution_count": 1,
   "metadata": {},
   "outputs": [],
   "source": [
    "import numpy as np"
   ]
  },
  {
   "cell_type": "code",
   "execution_count": 2,
   "metadata": {},
   "outputs": [
    {
     "name": "stdout",
     "output_type": "stream",
     "text": [
      "error1= 7.380379330312251e-14\n",
      "error2= 3.854270005379793e-13\n"
     ]
    }
   ],
   "source": [
    "N = 100\n",
    "\n",
    "np.random.seed(42)\n",
    "\n",
    "A_non_singular = np.random.randn(N,N)\n",
    "x = np.random.randn(N)\n",
    "noise = 0.001 * np.random.randn(N)\n",
    "b = A_non_singular @ x\n",
    "\n",
    "# solve for x given A and b\n",
    "x1 = np.linalg.solve(A_non_singular,b)\n",
    "x2 = np.linalg.inv(A_non_singular) @ b\n",
    "\n",
    "print(\"error1=\", np.linalg.norm(x-x1))\n",
    "print(\"error2=\", np.linalg.norm(x-x2))"
   ]
  },
  {
   "cell_type": "code",
   "execution_count": 3,
   "metadata": {},
   "outputs": [
    {
     "name": "stdout",
     "output_type": "stream",
     "text": [
      "error1= 0.034204420569409456\n",
      "error2= 0.03420442056942211\n"
     ]
    }
   ],
   "source": [
    "noise = 0.001 * np.random.randn(N)\n",
    "b = A_non_singular @ x + 2*noise\n",
    "\n",
    "# solve for x given A and b\n",
    "x1 = np.linalg.solve(A_non_singular,b)\n",
    "x2 = np.linalg.inv(A_non_singular) @ b\n",
    "\n",
    "print(\"error1=\", np.linalg.norm(x-x1))\n",
    "print(\"error2=\", np.linalg.norm(x-x2))"
   ]
  },
  {
   "cell_type": "markdown",
   "metadata": {},
   "source": [
    "---\n",
    "---\n",
    "---"
   ]
  },
  {
   "cell_type": "markdown",
   "metadata": {},
   "source": [
    "# Task 2"
   ]
  },
  {
   "cell_type": "code",
   "execution_count": 4,
   "metadata": {},
   "outputs": [
    {
     "name": "stdout",
     "output_type": "stream",
     "text": [
      "error1= 97.03344122430936\n",
      "error2= 566.7686475773214\n"
     ]
    }
   ],
   "source": [
    "A2_singular = A_non_singular.copy()\n",
    "A2_singular[:,N-1] = A2_singular[:,N-2]\n",
    "b = A2_singular @ x\n",
    "\n",
    "# solve for x given A and b\n",
    "x1 = np.linalg.solve(A2_singular,b)\n",
    "x2 = np.linalg.inv(A2_singular) @ b\n",
    "\n",
    "print(\"error1=\", np.linalg.norm(x-x1))\n",
    "print(\"error2=\", np.linalg.norm(x-x2))"
   ]
  },
  {
   "cell_type": "markdown",
   "metadata": {},
   "source": [
    "---\n",
    "---\n",
    "---"
   ]
  },
  {
   "cell_type": "markdown",
   "metadata": {},
   "source": [
    "# Task 3"
   ]
  },
  {
   "cell_type": "code",
   "execution_count": 5,
   "metadata": {},
   "outputs": [
    {
     "name": "stdout",
     "output_type": "stream",
     "text": [
      "error1= 1.0801912763056034e-07\n",
      "error2= 5.432797736368619e-07\n"
     ]
    }
   ],
   "source": [
    "A_near_singular = A2_singular.copy()\n",
    "np.random.seed(42)\n",
    "A_near_singular += 0.0000001 * np.random.randn(N,N)\n",
    "b = A_near_singular @ x\n",
    "\n",
    "# solve for x given A and b\n",
    "x1 = np.linalg.solve(A_near_singular,b)\n",
    "x2 = np.linalg.inv(A_near_singular) @ b\n",
    "\n",
    "print(\"error1=\", np.linalg.norm(x-x1))\n",
    "print(\"error2=\", np.linalg.norm(x-x2))"
   ]
  },
  {
   "cell_type": "markdown",
   "metadata": {},
   "source": [
    "---\n",
    "---\n",
    "---"
   ]
  },
  {
   "cell_type": "markdown",
   "metadata": {},
   "source": [
    "# Task 4"
   ]
  },
  {
   "cell_type": "code",
   "execution_count": 6,
   "metadata": {},
   "outputs": [
    {
     "name": "stdout",
     "output_type": "stream",
     "text": [
      "error1= 32260.03008535764\n",
      "error2= 32260.030085094237\n"
     ]
    }
   ],
   "source": [
    "b = A_near_singular @ x + noise\n",
    "\n",
    "# solve for x given A and b\n",
    "x1 = np.linalg.solve(A_near_singular,b)\n",
    "x2 = np.linalg.inv(A_near_singular) @ b\n",
    "\n",
    "print(\"error1=\", np.linalg.norm(x-x1))\n",
    "print(\"error2=\", np.linalg.norm(x-x2))"
   ]
  },
  {
   "cell_type": "code",
   "execution_count": 7,
   "metadata": {},
   "outputs": [
    {
     "name": "stdout",
     "output_type": "stream",
     "text": [
      "error1= 64520.06017176184\n",
      "error2= 64520.06017058492\n"
     ]
    }
   ],
   "source": [
    "b = A_near_singular @ x + 2*noise\n",
    "\n",
    "# solve for x given A and b\n",
    "x1 = np.linalg.solve(A_near_singular,b)\n",
    "x2 = np.linalg.inv(A_near_singular) @ b\n",
    "\n",
    "print(\"error1=\", np.linalg.norm(x-x1))\n",
    "print(\"error2=\", np.linalg.norm(x-x2))"
   ]
  }
 ],
 "metadata": {
  "kernelspec": {
   "display_name": "base",
   "language": "python",
   "name": "python3"
  },
  "language_info": {
   "codemirror_mode": {
    "name": "ipython",
    "version": 3
   },
   "file_extension": ".py",
   "mimetype": "text/x-python",
   "name": "python",
   "nbconvert_exporter": "python",
   "pygments_lexer": "ipython3",
   "version": "3.12.4"
  }
 },
 "nbformat": 4,
 "nbformat_minor": 2
}

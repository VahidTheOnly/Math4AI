{
 "cells": [
  {
   "cell_type": "code",
   "execution_count": 39,
   "metadata": {},
   "outputs": [
    {
     "name": "stdout",
     "output_type": "stream",
     "text": [
      "6.021648699999787\n",
      "2.3704999999608845\n"
     ]
    }
   ],
   "source": [
    "import numpy as np\n",
    "import timeit\n",
    "\n",
    "m,n,p = 100,50, 2000\n",
    "\n",
    "A = np.random.rand(m,n,p) \n",
    "s = np.random.rand(p)\n",
    "\n",
    "def a():\n",
    "    for i in range(p):\n",
    "        A[:,:,i] * s[i]\n",
    "\n",
    "def b():\n",
    "    A * s\n",
    "\n",
    "print(timeit.timeit(a, number=100))\n",
    "print(timeit.timeit(b, number=100))"
   ]
  }
 ],
 "metadata": {
  "kernelspec": {
   "display_name": "base",
   "language": "python",
   "name": "python3"
  },
  "language_info": {
   "codemirror_mode": {
    "name": "ipython",
    "version": 3
   },
   "file_extension": ".py",
   "mimetype": "text/x-python",
   "name": "python",
   "nbconvert_exporter": "python",
   "pygments_lexer": "ipython3",
   "version": "3.12.4"
  }
 },
 "nbformat": 4,
 "nbformat_minor": 2
}

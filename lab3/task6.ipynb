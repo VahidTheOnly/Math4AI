{
 "cells": [
  {
   "cell_type": "code",
   "execution_count": 15,
   "metadata": {},
   "outputs": [
    {
     "name": "stdout",
     "output_type": "stream",
     "text": [
      "0.06382989883422852\n",
      "0.00799250602722168\n",
      "True\n"
     ]
    }
   ],
   "source": [
    "import numpy as np\n",
    "import time\n",
    "\n",
    "m,n,p = 100,50, 2000\n",
    "\n",
    "A = np.random.rand(m,n,p) \n",
    "B = A.copy()\n",
    "s = np.random.rand(p)\n",
    "\n",
    "a = time.time()\n",
    "for i in range(p):\n",
    "    A[:,:,i] *= s[i]\n",
    "b = time.time()\n",
    "print(b-a)\n",
    "\n",
    "c = time.time()\n",
    "B *= s.reshape(1, 1, -1)\n",
    "d = time.time()\n",
    "print(d-c)\n",
    "\n",
    "# def a():\n",
    "#     for i in range(p):\n",
    "#         A[:,:,i] *= s[i]\n",
    "\n",
    "# def b():\n",
    "#     B *= s.reshape(1, 1, -1)\n",
    "\n",
    "# print(timeit.timeit(a, number=100))\n",
    "# print(timeit.timeit(b, number=100))\n",
    "\n",
    "print(np.array_equal(A, B))"
   ]
  }
 ],
 "metadata": {
  "kernelspec": {
   "display_name": "base",
   "language": "python",
   "name": "python3"
  },
  "language_info": {
   "codemirror_mode": {
    "name": "ipython",
    "version": 3
   },
   "file_extension": ".py",
   "mimetype": "text/x-python",
   "name": "python",
   "nbconvert_exporter": "python",
   "pygments_lexer": "ipython3",
   "version": "3.12.4"
  }
 },
 "nbformat": 4,
 "nbformat_minor": 2
}

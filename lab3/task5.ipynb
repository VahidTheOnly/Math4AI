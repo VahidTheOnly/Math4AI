{
 "cells": [
  {
   "cell_type": "code",
   "execution_count": 2,
   "metadata": {},
   "outputs": [
    {
     "name": "stdout",
     "output_type": "stream",
     "text": [
      "0.12410509999608621\n",
      "0.017664200044237077\n"
     ]
    }
   ],
   "source": [
    "import numpy as np\n",
    "import timeit\n",
    "\n",
    "d1 = np.random.rand(100, 1)\n",
    "A = np.random.rand(100, 200)\n",
    "\n",
    "D1 = np.diag(d1.ravel())\n",
    "\n",
    "def a():\n",
    "    return D1 @ A   \n",
    "def b():\n",
    "    return d1 * A\n",
    "\n",
    "print(timeit.timeit(a, number=1000))\n",
    "print(timeit.timeit(b, number=1000))"
   ]
  }
 ],
 "metadata": {
  "kernelspec": {
   "display_name": "base",
   "language": "python",
   "name": "python3"
  },
  "language_info": {
   "codemirror_mode": {
    "name": "ipython",
    "version": 3
   },
   "file_extension": ".py",
   "mimetype": "text/x-python",
   "name": "python",
   "nbconvert_exporter": "python",
   "pygments_lexer": "ipython3",
   "version": "3.12.4"
  }
 },
 "nbformat": 4,
 "nbformat_minor": 2
}

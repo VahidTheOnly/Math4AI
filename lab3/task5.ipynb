{
 "cells": [
  {
   "cell_type": "code",
   "execution_count": 20,
   "metadata": {},
   "outputs": [
    {
     "name": "stdout",
     "output_type": "stream",
     "text": [
      "61.043350099993404\n",
      "14.87612720002653\n"
     ]
    }
   ],
   "source": [
    "import numpy as np\n",
    "import timeit\n",
    "\n",
    "d1 = np.random.rand(100, 1)\n",
    "A = np.random.rand(100, 200)\n",
    "\n",
    "D1 = np.diag(d1.ravel())\n",
    "\n",
    "def a():\n",
    "    return D1 @ A   \n",
    "def b():\n",
    "    return d1 * A\n",
    "\n",
    "print(timeit.timeit(a))\n",
    "print(timeit.timeit(b))"
   ]
  }
 ],
 "metadata": {
  "kernelspec": {
   "display_name": "base",
   "language": "python",
   "name": "python3"
  },
  "language_info": {
   "codemirror_mode": {
    "name": "ipython",
    "version": 3
   },
   "file_extension": ".py",
   "mimetype": "text/x-python",
   "name": "python",
   "nbconvert_exporter": "python",
   "pygments_lexer": "ipython3",
   "version": "3.12.4"
  }
 },
 "nbformat": 4,
 "nbformat_minor": 2
}

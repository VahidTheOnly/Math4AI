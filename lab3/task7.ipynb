{
 "cells": [
  {
   "cell_type": "code",
   "execution_count": 42,
   "metadata": {},
   "outputs": [],
   "source": [
    "import numpy as np\n",
    "import timeit\n",
    "\n",
    "m, n, d = 10, 10, 10\n",
    "A = np.random.rand(m, d)\n",
    "B = np.random.rand(n, d)\n",
    "\n",
    "def f1(A, B):\n",
    "    D = np.zeros((m, n))\n",
    "    for i in range(m):\n",
    "        for j in range(n):\n",
    "            dot_product = np.dot(A[i], B[j])\n",
    "            norm_A = np.linalg.norm(A[i])\n",
    "            norm_B = np.linalg.norm(B[j])\n",
    "            cosine_similarity = dot_product / (norm_A * norm_B)\n",
    "            D[i, j] = 1 - cosine_similarity\n",
    "    return D\n",
    "\n",
    "\n",
    "def f2(A, B):\n",
    "    C = 1 - (A @ B.T) / (np.sqrt(np.sum(A ** 2, axis=1, keepdims=True)) * np.sqrt(np.sum(B ** 2, axis=1)))\n",
    "    return C"
   ]
  },
  {
   "cell_type": "code",
   "execution_count": 43,
   "metadata": {},
   "outputs": [
    {
     "name": "stdout",
     "output_type": "stream",
     "text": [
      "0.00143710\n",
      "0.00007910\n",
      "94.50% SpeedUp!!!\n"
     ]
    }
   ],
   "source": [
    "t1 = timeit.timeit(lambda :f1(A, B), number=1)\n",
    "t2 = timeit.timeit(lambda :f2(A, B), number=1)\n",
    "\n",
    "print(f'{t1:0.8f}')\n",
    "print(f'{t2:0.8f}')\n",
    "print(f'{(t1-t2)/t1 * 100:0.2f}% SpeedUp!!!')"
   ]
  },
  {
   "cell_type": "code",
   "execution_count": 51,
   "metadata": {},
   "outputs": [
    {
     "data": {
      "text/plain": [
       "True"
      ]
     },
     "execution_count": 51,
     "metadata": {},
     "output_type": "execute_result"
    }
   ],
   "source": [
    "CosDist_NonVec = np.round(f1(A, B), 5)\n",
    "CosDist_Vec = np.round(f2(A, B), 5)\n",
    "\n",
    "np.array_equal(CosDist_Vec, CosDist_NonVec)"
   ]
  },
  {
   "cell_type": "code",
   "execution_count": 57,
   "metadata": {},
   "outputs": [
    {
     "data": {
      "text/plain": [
       "array([0.45745486, 0.30070617, 0.36815198, 0.29655488, 0.1514127 ,\n",
       "       0.27599831, 0.24032961, 0.18545579, 0.23486242, 0.23072244])"
      ]
     },
     "execution_count": 57,
     "metadata": {},
     "output_type": "execute_result"
    }
   ],
   "source": [
    "f2(2*A, B)[0]"
   ]
  },
  {
   "cell_type": "code",
   "execution_count": 62,
   "metadata": {},
   "outputs": [
    {
     "data": {
      "text/plain": [
       "array([0.45745486, 0.30070617, 0.36815198, 0.29655488, 0.1514127 ,\n",
       "       0.27599831, 0.24032961, 0.18545579, 0.23486242, 0.23072244])"
      ]
     },
     "execution_count": 62,
     "metadata": {},
     "output_type": "execute_result"
    }
   ],
   "source": [
    "f2(A, B)[0]"
   ]
  },
  {
   "cell_type": "code",
   "execution_count": 64,
   "metadata": {},
   "outputs": [
    {
     "data": {
      "text/plain": [
       "array([0.58748385, 0.36771883, 0.40415982, 0.40397982, 0.20378346,\n",
       "       0.39993223, 0.32700866, 0.19832138, 0.26199471, 0.3087215 ])"
      ]
     },
     "execution_count": 64,
     "metadata": {},
     "output_type": "execute_result"
    }
   ],
   "source": [
    "f2(A**2, B)[0]"
   ]
  }
 ],
 "metadata": {
  "kernelspec": {
   "display_name": "base",
   "language": "python",
   "name": "python3"
  },
  "language_info": {
   "codemirror_mode": {
    "name": "ipython",
    "version": 3
   },
   "file_extension": ".py",
   "mimetype": "text/x-python",
   "name": "python",
   "nbconvert_exporter": "python",
   "pygments_lexer": "ipython3",
   "version": "3.12.4"
  }
 },
 "nbformat": 4,
 "nbformat_minor": 2
}

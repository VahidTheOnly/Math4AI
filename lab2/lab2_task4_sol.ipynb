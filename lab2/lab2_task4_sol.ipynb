{
 "cells": [
  {
   "cell_type": "code",
   "execution_count": 1,
   "metadata": {},
   "outputs": [],
   "source": [
    "import numpy as np\n",
    "\n",
    "d = 10\n",
    "m,n = 3, 4\n",
    "A = np.random.rand(m,d)\n",
    "B = np.random.rand(n,d)"
   ]
  },
  {
   "cell_type": "code",
   "execution_count": 7,
   "metadata": {},
   "outputs": [],
   "source": [
    "C1 = np.zeros((m,n))\n",
    "C2 = np.zeros((m,n))\n",
    "for i in range(m):\n",
    "    for j in range(n):\n",
    "        C1[i,j] = np.sum(A[i] * B[j])\n",
    "        C2[i,j] = np.inner(A[i], B[j])"
   ]
  },
  {
   "cell_type": "code",
   "execution_count": 9,
   "metadata": {},
   "outputs": [
    {
     "data": {
      "text/plain": [
       "array([[3.10304885, 3.1099058 , 2.18164883, 2.27283365],\n",
       "       [2.26204255, 2.38469944, 1.61554036, 1.83020597],\n",
       "       [3.27918674, 2.44967203, 2.07767483, 2.44043351]])"
      ]
     },
     "execution_count": 9,
     "metadata": {},
     "output_type": "execute_result"
    }
   ],
   "source": [
    "C1"
   ]
  },
  {
   "cell_type": "code",
   "execution_count": 8,
   "metadata": {},
   "outputs": [
    {
     "data": {
      "text/plain": [
       "array([[3.10304885, 3.1099058 , 2.18164883, 2.27283365],\n",
       "       [2.26204255, 2.38469944, 1.61554036, 1.83020597],\n",
       "       [3.27918674, 2.44967203, 2.07767483, 2.44043351]])"
      ]
     },
     "execution_count": 8,
     "metadata": {},
     "output_type": "execute_result"
    }
   ],
   "source": [
    "C2"
   ]
  },
  {
   "cell_type": "code",
   "execution_count": 5,
   "metadata": {},
   "outputs": [
    {
     "data": {
      "text/plain": [
       "array([[3.10304885, 3.1099058 , 2.18164883, 2.27283365],\n",
       "       [2.26204255, 2.38469944, 1.61554036, 1.83020597],\n",
       "       [3.27918674, 2.44967203, 2.07767483, 2.44043351]])"
      ]
     },
     "execution_count": 5,
     "metadata": {},
     "output_type": "execute_result"
    }
   ],
   "source": [
    "C = A @ B.T\n",
    "C"
   ]
  },
  {
   "cell_type": "code",
   "execution_count": 13,
   "metadata": {},
   "outputs": [
    {
     "data": {
      "text/plain": [
       "array([[6, 4],\n",
       "       [9, 6]])"
      ]
     },
     "execution_count": 13,
     "metadata": {},
     "output_type": "execute_result"
    }
   ],
   "source": [
    "np.outer([2, 3], [3, 2])"
   ]
  }
 ],
 "metadata": {
  "kernelspec": {
   "display_name": "base",
   "language": "python",
   "name": "python3"
  },
  "language_info": {
   "codemirror_mode": {
    "name": "ipython",
    "version": 3
   },
   "file_extension": ".py",
   "mimetype": "text/x-python",
   "name": "python",
   "nbconvert_exporter": "python",
   "pygments_lexer": "ipython3",
   "version": "3.12.4"
  }
 },
 "nbformat": 4,
 "nbformat_minor": 2
}

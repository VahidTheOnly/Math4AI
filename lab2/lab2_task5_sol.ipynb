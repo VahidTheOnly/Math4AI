{
 "cells": [
  {
   "cell_type": "code",
   "execution_count": 54,
   "metadata": {},
   "outputs": [],
   "source": [
    "import numpy as np\n",
    "\n",
    "d = 10\n",
    "m,n = 3, 4\n",
    "A = np.random.rand(m,d)\n",
    "B = np.random.rand(n,d)\n",
    "\n",
    "C = np.zeros((m,n))\n",
    "for i in range(d):\n",
    "    C += A[:,[i]] @ B[:,[i]].T"
   ]
  },
  {
   "cell_type": "code",
   "execution_count": 55,
   "metadata": {},
   "outputs": [],
   "source": [
    "C1 = np.zeros((m,n))\n",
    "C2 = np.zeros((m,n))\n",
    "for i in range(d):\n",
    "    C1 += A[:,[i]] @ B[:,[i]].T\n",
    "    C2 += np.outer(A[:, i], B[:, i])"
   ]
  },
  {
   "cell_type": "code",
   "execution_count": 56,
   "metadata": {},
   "outputs": [
    {
     "data": {
      "text/plain": [
       "array([[ True,  True,  True,  True],\n",
       "       [ True,  True,  True,  True],\n",
       "       [ True,  True,  True,  True]])"
      ]
     },
     "execution_count": 56,
     "metadata": {},
     "output_type": "execute_result"
    }
   ],
   "source": [
    "C1 == C2"
   ]
  },
  {
   "cell_type": "code",
   "execution_count": 59,
   "metadata": {},
   "outputs": [
    {
     "data": {
      "text/plain": [
       "array([[2.20925664, 3.92324837, 2.48450254, 1.8314681 ],\n",
       "       [1.62492062, 2.63284094, 1.28044492, 1.27158114],\n",
       "       [1.9722299 , 3.30252416, 1.73613303, 1.90864162]])"
      ]
     },
     "execution_count": 59,
     "metadata": {},
     "output_type": "execute_result"
    }
   ],
   "source": [
    "C1"
   ]
  },
  {
   "cell_type": "code",
   "execution_count": 60,
   "metadata": {},
   "outputs": [
    {
     "data": {
      "text/plain": [
       "array([[2.20925664, 3.92324837, 2.48450254, 1.8314681 ],\n",
       "       [1.62492062, 2.63284094, 1.28044492, 1.27158114],\n",
       "       [1.9722299 , 3.30252416, 1.73613303, 1.90864162]])"
      ]
     },
     "execution_count": 60,
     "metadata": {},
     "output_type": "execute_result"
    }
   ],
   "source": [
    "A @ B.T"
   ]
  }
 ],
 "metadata": {
  "kernelspec": {
   "display_name": "base",
   "language": "python",
   "name": "python3"
  },
  "language_info": {
   "codemirror_mode": {
    "name": "ipython",
    "version": 3
   },
   "file_extension": ".py",
   "mimetype": "text/x-python",
   "name": "python",
   "nbconvert_exporter": "python",
   "pygments_lexer": "ipython3",
   "version": "3.12.4"
  }
 },
 "nbformat": 4,
 "nbformat_minor": 2
}

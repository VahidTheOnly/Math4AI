{
 "cells": [
  {
   "cell_type": "code",
   "execution_count": 1,
   "metadata": {},
   "outputs": [],
   "source": [
    "import numpy as np\n",
    "\n",
    "m,n = 20,10\n",
    "A = np.random.rand(m,n)\n",
    "u = np.random.rand(n)"
   ]
  },
  {
   "cell_type": "code",
   "execution_count": 7,
   "metadata": {},
   "outputs": [],
   "source": [
    "v = np.zeros(m)\n",
    "for i in range(n):\n",
    "    v += A[:,i] * u[i]"
   ]
  },
  {
   "cell_type": "code",
   "execution_count": 9,
   "metadata": {},
   "outputs": [
    {
     "data": {
      "text/plain": [
       "array([2.41832823, 2.46829758, 1.7146861 , 2.40138862, 2.52315332,\n",
       "       2.26606655, 2.58076859, 1.94993578, 2.12429324, 2.96871498,\n",
       "       1.41967239, 2.27669377, 2.51962722, 2.42692238, 2.077407  ,\n",
       "       2.46924398, 1.88545946, 2.46346297, 1.88450535, 1.61551317])"
      ]
     },
     "execution_count": 9,
     "metadata": {},
     "output_type": "execute_result"
    }
   ],
   "source": [
    "v"
   ]
  },
  {
   "cell_type": "code",
   "execution_count": 11,
   "metadata": {},
   "outputs": [
    {
     "data": {
      "text/plain": [
       "array([2.41832823, 2.46829758, 1.7146861 , 2.40138862, 2.52315332,\n",
       "       2.26606655, 2.58076859, 1.94993578, 2.12429324, 2.96871498,\n",
       "       1.41967239, 2.27669377, 2.51962722, 2.42692238, 2.077407  ,\n",
       "       2.46924398, 1.88545946, 2.46346297, 1.88450535, 1.61551317])"
      ]
     },
     "execution_count": 11,
     "metadata": {},
     "output_type": "execute_result"
    }
   ],
   "source": [
    "np.sum(A * u, axis=1)"
   ]
  }
 ],
 "metadata": {
  "kernelspec": {
   "display_name": "base",
   "language": "python",
   "name": "python3"
  },
  "language_info": {
   "codemirror_mode": {
    "name": "ipython",
    "version": 3
   },
   "file_extension": ".py",
   "mimetype": "text/x-python",
   "name": "python",
   "nbconvert_exporter": "python",
   "pygments_lexer": "ipython3",
   "version": "3.12.4"
  }
 },
 "nbformat": 4,
 "nbformat_minor": 2
}

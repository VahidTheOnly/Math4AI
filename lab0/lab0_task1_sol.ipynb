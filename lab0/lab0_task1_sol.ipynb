{
 "cells": [
  {
   "cell_type": "markdown",
   "metadata": {},
   "source": [
    "# Vahid Maleki\n",
    "### Lab 0"
   ]
  },
  {
   "cell_type": "code",
   "execution_count": 1,
   "metadata": {},
   "outputs": [],
   "source": [
    "def shape(mat):\n",
    "    \"\"\"\n",
    "    returns (a, b)\n",
    "    a is number of rows \n",
    "    b is numer of columns\n",
    "    \"\"\"\n",
    "    return len(mat), len(mat[0])\n",
    "\n",
    "def arr_mul(arr1, arr2):\n",
    "    res_arr = []\n",
    "    for i in range(len(arr1)):\n",
    "        res_arr.append(arr1[i] * arr2[i])\n",
    "    return res_arr\n",
    "\n",
    "def nth_col(n, mat):\n",
    "    return([i[n] for i in mat])\n",
    "\n",
    "def mul(A, B):\n",
    "    \"\"\"\n",
    "    returns the product of the matrix A by the matrix B\n",
    "    returns the empty list [] if the matrix dimensions\n",
    "    are not consistent for multiplication\n",
    "    \"\"\"\n",
    "    # function body\n",
    "    A_rows = shape(A)[0]\n",
    "    A_columns = shape(A)[1]\n",
    "    B_rows = shape(B)[0]\n",
    "    B_columns = shape(B)[1]\n",
    "\n",
    "    res_mat = [[0 for _ in range(B_columns)] for _ in range(A_rows)]\n",
    "\n",
    "    if A_columns == B_rows:\n",
    "        for i in range(A_rows):\n",
    "            for j in range(B_columns):\n",
    "                res_mat[i][j] = sum(arr_mul(A[i], nth_col(j, B)))\n",
    "        return res_mat\n",
    "    else:\n",
    "        return [] # inconsistent\n"
   ]
  },
  {
   "cell_type": "code",
   "execution_count": 2,
   "metadata": {},
   "outputs": [
    {
     "name": "stdout",
     "output_type": "stream",
     "text": [
      "[[1, 1.0], [6, 1.0], [0, 1.0]]\n",
      "[]\n",
      "[[1, 0.0, 0.0], [0, 1.0, 0.0], [0, 0.0, 1.0]]\n"
     ]
    }
   ],
   "source": [
    "# test the function\n",
    "A = [[1, 0, 0],\n",
    "    [0, 0, 3],\n",
    "    [0, 2, 0]];\n",
    "\n",
    "B = [[1, 1],\n",
    "    [0, .5],\n",
    "    [2, 1/3.0]];\n",
    "\n",
    "C = [[ 1, 0, 0 ],\n",
    "    [ 0, 0, 0.5],\n",
    "    [ 0, 1/3.0, 0]]\n",
    "\n",
    "print(mul(A,B))\n",
    "print(mul(B,A))\n",
    "print(mul(A,C))"
   ]
  }
 ],
 "metadata": {
  "kernelspec": {
   "display_name": "base",
   "language": "python",
   "name": "python3"
  },
  "language_info": {
   "codemirror_mode": {
    "name": "ipython",
    "version": 3
   },
   "file_extension": ".py",
   "mimetype": "text/x-python",
   "name": "python",
   "nbconvert_exporter": "python",
   "pygments_lexer": "ipython3",
   "version": "3.12.4"
  }
 },
 "nbformat": 4,
 "nbformat_minor": 2
}
